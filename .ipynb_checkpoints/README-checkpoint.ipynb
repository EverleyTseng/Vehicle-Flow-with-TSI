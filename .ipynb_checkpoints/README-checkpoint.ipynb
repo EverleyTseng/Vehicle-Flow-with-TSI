{
 "cells": [
  {
   "cell_type": "markdown",
   "metadata": {},
   "source": [
    "# Setup Mask_RCNN"
   ]
  },
  {
   "cell_type": "markdown",
   "metadata": {},
   "source": [
    "- Gitgub: https://github.com/matterport/Mask_RCNN\n",
    "- Tutorial: https://www.analyticsvidhya.com/blog/2019/07/computer-vision-implementing-mask-r-cnn-image-segmentation/"
   ]
  },
  {
   "cell_type": "markdown",
   "metadata": {},
   "source": [
    "### Dependencies\n",
    "\n",
    "- numpy\n",
    "- scipy\n",
    "- Pillow\n",
    "- cython\n",
    "- matplotlib\n",
    "- scikit-image\n",
    "- tensorflow>=1.3.0\n",
    "- keras>=2.0.8\n",
    "- opencv-python\n",
    "- h5py\n",
    "- imgaug\n",
    "- IPython"
   ]
  },
  {
   "cell_type": "markdown",
   "metadata": {},
   "source": [
    "### Install COCO (pycocotools)\n",
    "\n",
    "` pip install git+https://github.com/waleedka/coco.git#subdirectory=PythonAPI `"
   ]
  },
  {
   "cell_type": "markdown",
   "metadata": {},
   "source": [
    "### Download pretrained models\n",
    "\n",
    "Download the model to `samples`\n",
    "\n",
    "site: https://github.com/matterport/Mask_RCNN/releases\n",
    "\n",
    "- Mask R-CNN 2.0: mask_rcnn_coco.h5\n",
    "- Mask R-CNN 2.1: mask_rcnn_baloon.h5"
   ]
  },
  {
   "cell_type": "markdown",
   "metadata": {},
   "source": [
    "# Run Mask R-CNN Inferences"
   ]
  },
  {
   "cell_type": "markdown",
   "metadata": {},
   "source": [
    "`cd project_root/samples`\n",
    "\n",
    "run `maskrcnn_inference.ipynb`"
   ]
  },
  {
   "cell_type": "code",
   "execution_count": null,
   "metadata": {},
   "outputs": [],
   "source": []
  }
 ],
 "metadata": {
  "kernelspec": {
   "display_name": "Python 3",
   "language": "python",
   "name": "python3"
  },
  "language_info": {
   "codemirror_mode": {
    "name": "ipython",
    "version": 3
   },
   "file_extension": ".py",
   "mimetype": "text/x-python",
   "name": "python",
   "nbconvert_exporter": "python",
   "pygments_lexer": "ipython3",
   "version": "3.6.7"
  }
 },
 "nbformat": 4,
 "nbformat_minor": 4
}
