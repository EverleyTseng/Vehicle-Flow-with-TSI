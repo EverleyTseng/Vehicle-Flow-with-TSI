{
 "cells": [
  {
   "cell_type": "markdown",
   "metadata": {},
   "source": [
    "OpenCV tools: https://docs.opencv.org/trunk/d9/d61/tutorial_py_morphological_ops.html"
   ]
  },
  {
   "cell_type": "code",
   "execution_count": 11,
   "metadata": {},
   "outputs": [],
   "source": [
    "import numpy as np\n",
    "import cv2"
   ]
  },
  {
   "cell_type": "code",
   "execution_count": 76,
   "metadata": {},
   "outputs": [
    {
     "data": {
      "text/plain": [
       "True"
      ]
     },
     "execution_count": 76,
     "metadata": {},
     "output_type": "execute_result"
    }
   ],
   "source": [
    "#image = cv2.imread('advan_001_100_450_550_600_00003500.png')\n",
    "#image = cv2.imread('advan_001_700_600_1919_600_00002500.png')\n",
    "#image = cv2.imread('advan_003_700_600_1919_600_00005500.png')\n",
    "#image = cv2.imread('advan_006_700_600_1919_600_00005500.png')\n",
    "#image = cv2.imread('advan_001_100_450_550_600_00004500.png')\n",
    "image = cv2.imread('advan_001_100_450_550_600_00002500.png')\n",
    "gray = cv2.cvtColor(image, cv2.COLOR_BGR2GRAY)\n",
    "blurred = cv2.GaussianBlur(gray, (5, 5), 0)\n",
    "canny = cv2.Canny(blurred, 20, 160)\n",
    "canny2 = cv2.Canny(blurred, 20, 200)\n",
    "canny3 = cv2.Canny(blurred, 80, 160)\n",
    "# contours, hierarchy = cv2.findContours(binaryIMG.copy(), cv2.RETR_EXTERNAL, cv2.CHAIN_APPROX_SIMPLE)\n",
    "# cv2.drawContours(image,contours,-1,(0,0,255),-1)\n",
    "# blank_image = np.zeros(shape=[image.shape[1], image.shape[0]], dtype=np.uint8)\n",
    "# cv2.drawContours(blank_image,contours,-1, 255, 1)\n",
    "\n",
    "closing = cv2.morphologyEx(canny3, cv2.MORPH_CLOSE, np.ones((13,13),np.uint8))\n",
    "filled = cv2.cvtColor(closing.copy(), cv2.COLOR_GRAY2BGR)\n",
    "contours, hierarchy = cv2.findContours(closing.copy(), cv2.RETR_LIST, cv2.CHAIN_APPROX_SIMPLE)\n",
    "for contour in contours:\n",
    "    # cv2.drawContours(filled,[contour],-1,(0,0,255),1)\n",
    "    if cv2.contourArea(contour) < 100:\n",
    "        cv2.drawContours(filled,[contour],-1,(255,255,255),-1)\n",
    "\n",
    "#dilation = cv2.dilate(filled,np.ones((1,3),np.uint8),iterations = 1)\n",
    "erosion = cv2.erode(filled,np.ones((1,9),np.uint8),iterations = 1)\n",
    "dilation = cv2.dilate(erosion,np.ones((5,5),np.uint8),iterations = 1)\n",
    "erosion2 = cv2.erode(dilation,np.ones((3,9),np.uint8),iterations = 1)\n",
    "dilation2 = cv2.dilate(erosion2,np.ones((1,5),np.uint8),iterations = 1)\n",
    "erosion3 = cv2.erode(dilation2,np.ones((1,9),np.uint8),iterations = 1)\n",
    "dilation3 = cv2.dilate(erosion3,np.ones((1,5),np.uint8),iterations = 1)\n",
    "erosion4 = cv2.erode(dilation3,np.ones((1,9),np.uint8),iterations = 1)\n",
    "erosion4 = cv2.erode(erosion4,np.ones((5,5),np.uint8),iterations = 1)\n",
    "dilation4 = cv2.dilate(erosion4,np.ones((5,9),np.uint8),iterations = 1)\n",
    "dilation4 = cv2.dilate(dilation4,np.ones((1,5),np.uint8),iterations = 1)\n",
    "\n",
    "cv2.imwrite('canny.png', canny)\n",
    "cv2.imwrite('canny2.png', canny2)\n",
    "cv2.imwrite('canny3.png', canny3)\n",
    "#cv2.imwrite('contour_on_image.png', image)\n",
    "#cv2.imwrite('contour.png', blank_image)\n",
    "cv2.imwrite('closing.png', closing)\n",
    "cv2.imwrite('filled.png', filled)\n",
    "cv2.imwrite('dilation.png', dilation)\n",
    "cv2.imwrite('erosion.png', erosion)\n",
    "cv2.imwrite('dilation2.png', dilation2)\n",
    "cv2.imwrite('erosion2.png', erosion2)\n",
    "cv2.imwrite('dilation3.png', dilation3)\n",
    "cv2.imwrite('erosion3.png', erosion3)\n",
    "cv2.imwrite('dilation4.png', dilation4)\n",
    "cv2.imwrite('erosion4.png', erosion4)"
   ]
  },
  {
   "cell_type": "code",
   "execution_count": null,
   "metadata": {},
   "outputs": [],
   "source": []
  }
 ],
 "metadata": {
  "kernelspec": {
   "display_name": "Python 3",
   "language": "python",
   "name": "python3"
  },
  "language_info": {
   "codemirror_mode": {
    "name": "ipython",
    "version": 3
   },
   "file_extension": ".py",
   "mimetype": "text/x-python",
   "name": "python",
   "nbconvert_exporter": "python",
   "pygments_lexer": "ipython3",
   "version": "3.6.7"
  }
 },
 "nbformat": 4,
 "nbformat_minor": 4
}
